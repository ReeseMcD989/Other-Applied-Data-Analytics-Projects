{
 "cells": [
  {
   "cell_type": "markdown",
   "metadata": {},
   "source": [
    "This is a problem solving exercise wherein we seek to find and count all numbers within certain ranges that have vertical rotational symmetry. "
   ]
  },
  {
   "cell_type": "code",
   "execution_count": 1,
   "metadata": {},
   "outputs": [],
   "source": [
    "from collections import Counter"
   ]
  },
  {
   "cell_type": "code",
   "execution_count": 2,
   "metadata": {},
   "outputs": [
    {
     "name": "stdout",
     "output_type": "stream",
     "text": [
      "['00', '01', '08', '06', '09', '10', '11', '18', '16', '19', '80', '81', '88', '86', '89', '60', '61', '68', '66', '69', '90', '91', '98', '96', '99']\n"
     ]
    }
   ],
   "source": [
    "# These constants won't be used in the following cells to generate lists of numbers with vertical symmetry, they are just\n",
    "# here for reference.\n",
    "\n",
    "number_length = 5\n",
    "numbers = []\n",
    "\n",
    "acceptable_digits = [\"0\",\"1\",\"8\",\"6\",\"9\"]\n",
    "acceptable_outside_digits = [\"1\",\"8\",\"6\",\"9\"]\n",
    "acceptable_middle_digits = [\"0\",\"1\",\"8\"]\n",
    "\n",
    "len_2 = [-1,0]\n",
    "len_3 = [-1,0,1]\n",
    "len_5 = [-2,-1,0,1,2]\n",
    "len_10 = [-1,0,1,2,3,4,5,6,7,8]\n",
    "\n",
    "# it's easier to work with digits as characters here\n",
    "# because you can just add them together. For instance...\n",
    "\n",
    "print([a + b for a in acceptable_digits for b in acceptable_digits])"
   ]
  },
  {
   "cell_type": "code",
   "execution_count": 3,
   "metadata": {},
   "outputs": [
    {
     "name": "stdout",
     "output_type": "stream",
     "text": [
      "0\n"
     ]
    }
   ],
   "source": [
    "# demonstrating how we will count the number of numbers in each list.\n",
    "\n",
    "print(len(numbers))"
   ]
  },
  {
   "cell_type": "markdown",
   "metadata": {},
   "source": [
    "This is the code for number lengths 1-5."
   ]
  },
  {
   "cell_type": "code",
   "execution_count": 4,
   "metadata": {
    "scrolled": true
   },
   "outputs": [
    {
     "data": {
      "text/plain": [
       "['0',\n",
       " '1',\n",
       " '8',\n",
       " '11',\n",
       " '69',\n",
       " '88',\n",
       " '96',\n",
       " '101',\n",
       " '111',\n",
       " '181',\n",
       " '609',\n",
       " '619',\n",
       " '689',\n",
       " '808',\n",
       " '818',\n",
       " '888',\n",
       " '906',\n",
       " '916',\n",
       " '986',\n",
       " '1001',\n",
       " '1111',\n",
       " '1691',\n",
       " '1881',\n",
       " '1961',\n",
       " '6009',\n",
       " '6119',\n",
       " '6699',\n",
       " '6889',\n",
       " '6969',\n",
       " '8008',\n",
       " '8118',\n",
       " '8698',\n",
       " '8888',\n",
       " '8968',\n",
       " '9006',\n",
       " '9116',\n",
       " '9696',\n",
       " '9886',\n",
       " '9966',\n",
       " '10001',\n",
       " '10101',\n",
       " '10801',\n",
       " '11011',\n",
       " '11111',\n",
       " '11811',\n",
       " '16091',\n",
       " '16191',\n",
       " '16891',\n",
       " '18081',\n",
       " '18181',\n",
       " '18881',\n",
       " '19061',\n",
       " '19161',\n",
       " '19861',\n",
       " '60009',\n",
       " '60109',\n",
       " '60809',\n",
       " '61019',\n",
       " '61119',\n",
       " '61819',\n",
       " '66099',\n",
       " '66199',\n",
       " '66899',\n",
       " '68089',\n",
       " '68189',\n",
       " '68889',\n",
       " '69069',\n",
       " '69169',\n",
       " '69869',\n",
       " '80008',\n",
       " '80108',\n",
       " '80808',\n",
       " '81018',\n",
       " '81118',\n",
       " '81818',\n",
       " '86098',\n",
       " '86198',\n",
       " '86898',\n",
       " '88088',\n",
       " '88188',\n",
       " '88888',\n",
       " '89068',\n",
       " '89168',\n",
       " '89868',\n",
       " '90006',\n",
       " '90106',\n",
       " '90806',\n",
       " '91016',\n",
       " '91116',\n",
       " '91816',\n",
       " '96096',\n",
       " '96196',\n",
       " '96896',\n",
       " '98086',\n",
       " '98186',\n",
       " '98886',\n",
       " '99066',\n",
       " '99166',\n",
       " '99866']"
      ]
     },
     "execution_count": 4,
     "metadata": {},
     "output_type": "execute_result"
    }
   ],
   "source": [
    "# This code cell generates lists of symmetric numbers that are 2, 3, 4, and 5 digits long.\n",
    "\n",
    "# These lines define a range of numbers from 0 to 99999 (excluding 100000) and initialize an empty list to store the \n",
    "# symmetric numbers.\n",
    "\n",
    "number_range = range(0,100000)\n",
    "sym_numbers = []\n",
    "\n",
    "# This initiates a loop that iterates over each number in the number_range.\n",
    "\n",
    "for number in number_range:\n",
    "    \n",
    "    # Converts every number to string\n",
    "    \n",
    "    number = str(number)\n",
    "    \n",
    "    # If the number is 0, 1, or 8 (single-digit symmetric numbers), it is appended to the sym_numbers list.\n",
    "    \n",
    "    if number == \"0\" or number == \"1\" or number == \"8\":\n",
    "        sym_numbers.append(number)\n",
    "    \n",
    "    # The subsequent code consists of several conditional statements that check the length of the number and compare its \n",
    "    # digits to determine if it is a symmetric number. The conditions progressively check for symmetric numbers of \n",
    "    # lengths 2, 3, 4, and 5. If a number satisfies the conditions, it is appended to the sym_numbers list.\n",
    "    \n",
    "    elif len(number) == 2 :\n",
    "        if number[0] == \"6\" :\n",
    "            if number[-1] == \"9\" :\n",
    "                sym_numbers.append(number)\n",
    "        if number[0] == \"9\":\n",
    "            if number[-1] == \"6\" :\n",
    "                sym_numbers.append(number)    \n",
    "        if (number[0] == \"1\" or number[0] == \"8\") and number[0] == number[-1]:\n",
    "            sym_numbers.append(number)\n",
    "    \n",
    "    elif len(number) == 3:\n",
    "        if (number[1] == \"1\" or number[1] == \"8\" or number[1] == \"0\") :\n",
    "            if (number[0] == \"6\" and number[-1] == \"9\") :\n",
    "                sym_numbers.append(number)\n",
    "            if (number[0] == \"9\" and number[-1] == \"6\") :\n",
    "                sym_numbers.append(number)    \n",
    "            if (number[0] == \"1\" == number[-1]):\n",
    "                sym_numbers.append(number)\n",
    "            if (number[0] == \"8\" == number[-1]):\n",
    "                sym_numbers.append(number)  \n",
    "                \n",
    "    elif len(number) == 4:\n",
    "        if (number[0] == \"6\" and number[-1] == \"9\") or (number[0] == \"9\" and number[-1] == \"6\") or (number[0] == \"8\" == number[-1]) or (number[0] == \"1\" == number[-1]) :\n",
    "            if (number[1] == \"6\" and number[-2] == \"9\") or (number[1] == \"9\" and number[-2] == \"6\") or (number[1] == \"8\" == number[-2]) or (number[1] == \"1\" == number[-2]) or (number[1] == \"0\" == number[-2]) :\n",
    "                sym_numbers.append(number)\n",
    "            \n",
    "    \n",
    "    elif len(number) == 5:\n",
    "        if (number[2] == \"1\" or number[2] == \"8\" or number[2] == \"0\") :\n",
    "            if (number[1] == \"6\" and number[-2] == \"9\") or (number[1] == \"9\" and number[-2] == \"6\") or (number[1] == \"1\" == number[-2]) or (number[1] == \"8\" == number[-2]) or (number[1] == \"0\" == number[-2]) : \n",
    "                if (number[0] == \"6\" and number[-1] == \"9\") or (number[0] == \"9\" and number[-1] == \"6\") or (number[0] == \"1\" == number[-1]) or (number[0] == \"8\" == number[-1]) : \n",
    "                    sym_numbers.append(number)\n",
    "                    \n",
    "sym_numbers"
   ]
  },
  {
   "cell_type": "code",
   "execution_count": 5,
   "metadata": {},
   "outputs": [
    {
     "data": {
      "text/plain": [
       "Counter({1: 3, 2: 4, 3: 12, 4: 20, 5: 60})"
      ]
     },
     "execution_count": 5,
     "metadata": {},
     "output_type": "execute_result"
    }
   ],
   "source": [
    "# The code Counter([len(num) for num in sym_numbers]) creates a Counter object that counts the occurrences of different \n",
    "# lengths of numbers in the sym_numbers list.\n",
    "\n",
    "Counter([len(num) for num in sym_numbers])"
   ]
  },
  {
   "cell_type": "markdown",
   "metadata": {},
   "source": [
    "This is the code for number lengths of 10 digits. No print out was included to avoid printing too many line to output."
   ]
  },
  {
   "cell_type": "code",
   "execution_count": 6,
   "metadata": {},
   "outputs": [],
   "source": [
    "number_range = range(0,10000000000)\n",
    "\n",
    "for number in number_range: # Starts for loop.\n",
    "    number = str(number) # Converts every number to string\n",
    "\n",
    "    if len(number) == 10:\n",
    "        if (number[0] == \"6\" and number[-1] == \"9\") or (number[0] == \"9\" and number[-1] == \"6\") or (number[0] == \"8\" == number[-1]) or (number[0] == \"1\" == number[-1]) :\n",
    "            if (number[1] == \"6\" and number[-2] == \"9\") or (number[1] == \"9\" and number[-2] == \"6\") or (number[1] == \"8\" == number[-2]) or (number[1] == \"1\" == number[-2]) or (number[1] == \"0\" == number[-2]) :\n",
    "                if (number[2] == \"6\" and number[-3] == \"9\") or (number[2] == \"9\" and number[-3] == \"6\") or (number[2] == \"8\" == number[-3]) or (number[2] == \"1\" == number[-3]) or (number[2] == \"0\" == number[-3]) :\n",
    "                    if (number[3] == \"6\" and number[-4] == \"9\") or (number[3] == \"9\" and number[-4] == \"6\") or (number[3] == \"8\" == number[-4]) or (number[3] == \"1\" == number[-4]) or (number[3] == \"0\" == number[-4]) :\n",
    "                        if (number[4] == \"6\" and number[-5] == \"9\") or (number[4] == \"9\" and number[-5] == \"6\") or (number[4] == \"8\" == number[-5]) or (number[4] == \"1\" == number[-5]) or (number[4] == \"0\" == number[-5]) :\n",
    "                            sym_numbers.append(number)"
   ]
  },
  {
   "cell_type": "code",
   "execution_count": 7,
   "metadata": {},
   "outputs": [
    {
     "data": {
      "text/plain": [
       "Counter({1: 3, 2: 4, 3: 12, 4: 20, 5: 60, 10: 2500})"
      ]
     },
     "execution_count": 7,
     "metadata": {},
     "output_type": "execute_result"
    }
   ],
   "source": [
    "Counter([len(num) for num in sym_numbers])"
   ]
  }
 ],
 "metadata": {
  "kernelspec": {
   "display_name": "Python 3 (ipykernel)",
   "language": "python",
   "name": "python3"
  },
  "language_info": {
   "codemirror_mode": {
    "name": "ipython",
    "version": 3
   },
   "file_extension": ".py",
   "mimetype": "text/x-python",
   "name": "python",
   "nbconvert_exporter": "python",
   "pygments_lexer": "ipython3",
   "version": "3.9.12"
  }
 },
 "nbformat": 4,
 "nbformat_minor": 4
}
